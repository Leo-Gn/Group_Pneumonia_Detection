{
 "cells": [
  {
   "cell_type": "code",
   "execution_count": null,
   "id": "d7a121dd",
   "metadata": {},
   "outputs": [],
   "source": [
    "# Imports\n",
    "\n",
    "# For deep learning stuff\n",
    "import tensorflow as tf\n",
    "\n",
    "# For data\n",
    "import pandas as pd\n",
    "\n",
    "# For plotting\n",
    "import matplotlib.pyplot as plt\n",
    "\n",
    "# For file paths\n",
    "import os\n",
    "import random"
   ]
  },
  {
   "cell_type": "code",
   "execution_count": 2,
   "id": "ce5744c1",
   "metadata": {},
   "outputs": [
    {
     "name": "stdout",
     "output_type": "stream",
     "text": [
      "Great! Found the GPU:\n",
      "- PhysicalDevice(name='/physical_device:GPU:0', device_type='GPU')\n"
     ]
    }
   ],
   "source": [
    "\n",
    "# GPU check, this is very important!\n",
    "\n",
    "\n",
    "# This checks for GPU\n",
    "gpus = tf.config.list_physical_devices('GPU')\n",
    "\n",
    "if gpus:\n",
    "    print(f\"Great! Found the GPU:\")\n",
    "    for gpu in gpus:\n",
    "        print(f\"- {gpu}\")\n",
    "else:\n",
    "    print(\"No GPU found!!! The model will run on the CPU, which will be a lot slower. Make sure you have installed TensorFlow and the correct CUDA drivers before proceeding with the next steps!\")"
   ]
  },
  {
   "cell_type": "code",
   "execution_count": 3,
   "id": "e8949815",
   "metadata": {},
   "outputs": [
    {
     "name": "stdout",
     "output_type": "stream",
     "text": [
      "\n",
      "Training data info:\n",
      "<class 'pandas.core.frame.DataFrame'>\n",
      "RangeIndex: 223414 entries, 0 to 223413\n",
      "Data columns (total 19 columns):\n",
      " #   Column                      Non-Null Count   Dtype  \n",
      "---  ------                      --------------   -----  \n",
      " 0   Path                        223414 non-null  object \n",
      " 1   Sex                         223414 non-null  object \n",
      " 2   Age                         223414 non-null  int64  \n",
      " 3   Frontal/Lateral             223414 non-null  object \n",
      " 4   AP/PA                       191027 non-null  object \n",
      " 5   No Finding                  22381 non-null   float64\n",
      " 6   Enlarged Cardiomediastinum  44839 non-null   float64\n",
      " 7   Cardiomegaly                46203 non-null   float64\n",
      " 8   Lung Opacity                117778 non-null  float64\n",
      " 9   Lung Lesion                 11944 non-null   float64\n",
      " 10  Edema                       85956 non-null   float64\n",
      " 11  Consolidation               70622 non-null   float64\n",
      " 12  Pneumonia                   27608 non-null   float64\n",
      " 13  Atelectasis                 68443 non-null   float64\n",
      " 14  Pneumothorax                78934 non-null   float64\n",
      " 15  Pleural Effusion            133211 non-null  float64\n",
      " 16  Pleural Other               6492 non-null    float64\n",
      " 17  Fracture                    12194 non-null   float64\n",
      " 18  Support Devices             123217 non-null  float64\n",
      "dtypes: float64(14), int64(1), object(4)\n",
      "memory usage: 32.4+ MB\n",
      "\n",
      "Validation data head:\n",
      "                                                Path     Sex  Age  \\\n",
      "0  CheXpert-v1.0-small/valid/patient64541/study1/...    Male   73   \n",
      "1  CheXpert-v1.0-small/valid/patient64542/study1/...    Male   70   \n",
      "2  CheXpert-v1.0-small/valid/patient64542/study1/...    Male   70   \n",
      "3  CheXpert-v1.0-small/valid/patient64543/study1/...    Male   85   \n",
      "4  CheXpert-v1.0-small/valid/patient64544/study1/...  Female   42   \n",
      "\n",
      "  Frontal/Lateral AP/PA  No Finding  Enlarged Cardiomediastinum  Cardiomegaly  \\\n",
      "0         Frontal    AP         0.0                         1.0           1.0   \n",
      "1         Frontal    PA         0.0                         0.0           0.0   \n",
      "2         Lateral   NaN         0.0                         0.0           0.0   \n",
      "3         Frontal    AP         0.0                         1.0           0.0   \n",
      "4         Frontal    AP         1.0                         0.0           0.0   \n",
      "\n",
      "   Lung Opacity  Lung Lesion  Edema  Consolidation  Pneumonia  Atelectasis  \\\n",
      "0           1.0          0.0    0.0            0.0        0.0          0.0   \n",
      "1           0.0          0.0    0.0            0.0        0.0          0.0   \n",
      "2           0.0          0.0    0.0            0.0        0.0          0.0   \n",
      "3           1.0          0.0    1.0            0.0        0.0          0.0   \n",
      "4           0.0          0.0    0.0            0.0        0.0          0.0   \n",
      "\n",
      "   Pneumothorax  Pleural Effusion  Pleural Other  Fracture  Support Devices  \n",
      "0           0.0               0.0            0.0       0.0              0.0  \n",
      "1           0.0               0.0            0.0       0.0              1.0  \n",
      "2           0.0               0.0            0.0       0.0              1.0  \n",
      "3           0.0               0.0            0.0       0.0              0.0  \n",
      "4           0.0               0.0            0.0       0.0              0.0  \n"
     ]
    }
   ],
   "source": [
    "# Load our datasets CSV file\n",
    "\n",
    "\n",
    "# The path to your data folder, this is mine, change it to yours!\n",
    "# This should be the only line you need to change.\n",
    "data_path = r'C:\\Users\\Leo\\Desktop\\Group_Pneumonia_Detection\\data'\n",
    "\n",
    "# Make the full paths to the csv files\n",
    "train_csv_path = os.path.join(data_path, 'train.csv')\n",
    "valid_csv_path = os.path.join(data_path, 'valid.csv')\n",
    "\n",
    "# Load the csv files\n",
    "try:\n",
    "    train_df = pd.read_csv(train_csv_path)\n",
    "    valid_df = pd.read_csv(valid_csv_path)\n",
    "    \n",
    "    print(\"\\nTraining data info:\")\n",
    "    train_df.info()\n",
    "    \n",
    "    print(\"\\nValidation data head:\")\n",
    "    print(valid_df.head())\n",
    "\n",
    "except FileNotFoundError:\n",
    "    print(\"Error! Make sure you have change the data_path with your actual path!\")"
   ]
  },
  {
   "cell_type": "code",
   "execution_count": 14,
   "id": "21feeff3",
   "metadata": {},
   "outputs": [
    {
     "name": "stdout",
     "output_type": "stream",
     "text": [
      "--- Analyzing the Labels in Our Data ---\n",
      "\n",
      "Label Meanings for 'Pneumonia':\n",
      " 1.0: Positive finding.\n",
      " 0.0: Negative finding.\n",
      "-1.0: Uncertain finding. The report is unclear about the presence of pneumonia.\n",
      " NaN(empty): Not mentioned. The report does not mention pneumonia.\n",
      "\n",
      "--- Training Data Label Counts ---\n",
      " NaN    195806\n",
      "-1.0     18770\n",
      " 1.0      6039\n",
      " 0.0      2799\n",
      "Name: Pneumonia, dtype: int64\n",
      "\n",
      "--- Validation Data Label Counts ---\n",
      "0.0    226\n",
      "1.0      8\n",
      "Name: Pneumonia, dtype: int64\n"
     ]
    }
   ],
   "source": [
    "# Analyze the labels in our data\n",
    "\n",
    "print(\"--- Analyzing the Labels in Our Data ---\")\n",
    "\n",
    "# Label meaning in the CheXpert dataset:\n",
    "print(\"\\nLabel Meanings for 'Pneumonia':\")\n",
    "print(\" 1.0: Positive finding.\")\n",
    "print(\" 0.0: Negative finding.\")\n",
    "print(\"-1.0: Uncertain finding. The report is unclear about the presence of pneumonia.\")\n",
    "print(\" NaN(empty): Not mentioned. The report does not mention pneumonia.\")\n",
    "\n",
    "\n",
    "# Count the different labels in the training data\n",
    "print(\"\\n--- Training Data Label Counts ---\")\n",
    "train_counts = train_df['Pneumonia'].value_counts(dropna=False)\n",
    "print(train_counts)\n",
    "\n",
    "\n",
    "# Count the different labels in the validation data\n",
    "print(\"\\n--- Validation Data Label Counts ---\")\n",
    "valid_counts = valid_df['Pneumonia'].value_counts(dropna=False)\n",
    "print(valid_counts)"
   ]
  },
  {
   "cell_type": "code",
   "execution_count": null,
   "id": "dbf301e6",
   "metadata": {},
   "outputs": [],
   "source": []
  },
  {
   "cell_type": "code",
   "execution_count": null,
   "id": "a8eca28c",
   "metadata": {},
   "outputs": [],
   "source": []
  }
 ],
 "metadata": {
  "kernelspec": {
   "display_name": ".venv",
   "language": "python",
   "name": "python3"
  },
  "language_info": {
   "codemirror_mode": {
    "name": "ipython",
    "version": 3
   },
   "file_extension": ".py",
   "mimetype": "text/x-python",
   "name": "python",
   "nbconvert_exporter": "python",
   "pygments_lexer": "ipython3",
   "version": "3.10.9"
  }
 },
 "nbformat": 4,
 "nbformat_minor": 5
}
